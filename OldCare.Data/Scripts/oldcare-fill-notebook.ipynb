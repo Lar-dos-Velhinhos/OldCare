{
    "cells": [
        {
            "cell_type": "code",
            "execution_count": null,
            "metadata": {
                "azdata_cell_guid": "0c7133e0-bb3b-4a3a-9120-1d4ecb9ef82c",
                "language": "sql"
            },
            "outputs": [],
            "source": [
                "SELECT * FROM [User]"
            ]
        },
        {
            "cell_type": "code",
            "execution_count": 1,
            "metadata": {
                "azdata_cell_guid": "a28bb330-fbe8-4b8c-944f-91cb9dbdca4e",
                "language": "sql"
            },
            "outputs": [
                {
                    "data": {
                        "text/html": [
                            "(0 rows affected)"
                        ]
                    },
                    "metadata": {},
                    "output_type": "display_data"
                },
                {
                    "data": {
                        "text/html": [
                            "Total execution time: 00:00:00.010"
                        ]
                    },
                    "metadata": {},
                    "output_type": "display_data"
                },
                {
                    "data": {
                        "application/vnd.dataresource+json": {
                            "data": [],
                            "schema": {
                                "fields": [
                                    {
                                        "name": "Id"
                                    },
                                    {
                                        "name": "Address_ZipCode"
                                    },
                                    {
                                        "name": "Address_Street"
                                    },
                                    {
                                        "name": "Address_Number"
                                    },
                                    {
                                        "name": "Address_Complement"
                                    },
                                    {
                                        "name": "Address_District"
                                    },
                                    {
                                        "name": "Address_City"
                                    },
                                    {
                                        "name": "Address_State"
                                    },
                                    {
                                        "name": "Address_Country"
                                    },
                                    {
                                        "name": "Address_Code"
                                    },
                                    {
                                        "name": "Address_Notes"
                                    },
                                    {
                                        "name": "BirthDate"
                                    },
                                    {
                                        "name": "Citizenship"
                                    },
                                    {
                                        "name": "Gender"
                                    },
                                    {
                                        "name": "Name_FirstName"
                                    },
                                    {
                                        "name": "Name_LastName"
                                    },
                                    {
                                        "name": "Obs"
                                    },
                                    {
                                        "name": "Phone_FullNumber"
                                    },
                                    {
                                        "name": "Phone_Verification_IsVerified"
                                    },
                                    {
                                        "name": "Phone_Verification_Code"
                                    },
                                    {
                                        "name": "Phone_Verification_CodeExpireDate"
                                    },
                                    {
                                        "name": "Photo"
                                    },
                                    {
                                        "name": "Tracker_CreatedAt"
                                    },
                                    {
                                        "name": "Tracker_UpdatedAt"
                                    },
                                    {
                                        "name": "Tracker_Notes"
                                    }
                                ]
                            }
                        },
                        "text/html": [
                            "<table><tr><th>Id</th><th>Address_ZipCode</th><th>Address_Street</th><th>Address_Number</th><th>Address_Complement</th><th>Address_District</th><th>Address_City</th><th>Address_State</th><th>Address_Country</th><th>Address_Code</th><th>Address_Notes</th><th>BirthDate</th><th>Citizenship</th><th>Gender</th><th>Name_FirstName</th><th>Name_LastName</th><th>Obs</th><th>Phone_FullNumber</th><th>Phone_Verification_IsVerified</th><th>Phone_Verification_Code</th><th>Phone_Verification_CodeExpireDate</th><th>Photo</th><th>Tracker_CreatedAt</th><th>Tracker_UpdatedAt</th><th>Tracker_Notes</th></tr></table>"
                        ]
                    },
                    "execution_count": 1,
                    "metadata": {},
                    "output_type": "execute_result"
                }
            ],
            "source": [
                "SELECT * FROM [Person]"
            ]
        },
        {
            "cell_type": "code",
            "execution_count": 6,
            "metadata": {
                "azdata_cell_guid": "1407d301-c875-4933-a376-6cd457ed61bb",
                "language": "sql"
            },
            "outputs": [
                {
                    "data": {
                        "text/html": [
                            "(1 row affected)"
                        ]
                    },
                    "metadata": {},
                    "output_type": "display_data"
                },
                {
                    "data": {
                        "text/html": [
                            "Total execution time: 00:00:00.052"
                        ]
                    },
                    "metadata": {},
                    "output_type": "display_data"
                }
            ],
            "source": [
                "INSERT INTO [backoffice].[Person] VALUES (\n",
                "    '527299db-27df-4e30-b35e-d2ae2e23f358', /* Id */\n",
                "    '12237010', /* ZipCode */\n",
                "    'Rua Icatu', /* Street */\n",
                "    '1840', /* Number */\n",
                "    'APT 302A', /* Complement */\n",
                "    'Conj. 31 de março', /* Distric */\n",
                "    'São José dos Campos', /* City */\n",
                "    'SP', /* State */\n",
                "    'Brasil', /* Country */\n",
                "    '55', /* Country Code */\n",
                "    'Adição do endereço', /* Address Notes */\n",
                "    GETDATE(), /* BirthDate */\n",
                "    'João Pessoa/PB', /* Citizenship */\n",
                "    1, /* Gender (0 female, 1 male) */\n",
                "    'Brewerton', /* First Name */\n",
                "    'Santos', /* Last Name */\n",
                "    null, /* Obs */\n",
                "    null, /* Full number */\n",
                "    1, /* Is Verified */\n",
                "    null, /* Verification Code */\n",
                "    null, /* Verification Code Expire Date */\n",
                "    null, /* Photo */\n",
                "    GETDATE(), /* Father Name */\n",
                "    'Maria das Vitórias de Oliveira', /* Mother Name */\n",
                "    GETDATE(), /* Created At */\n",
                "    GETDATE(), /* Updated At */\n",
                "    'Criação da conta' /* Tracker Notes */\n",
                ")"
            ]
        },
        {
            "cell_type": "code",
            "execution_count": null,
            "metadata": {},
            "outputs": [],
            "source": [
                "INSERT INTO [backoffice].[Person] VALUES (\n",
                "    '8720a333-8c38-4a18-8ae8-d7184f8d189b', /* Id */\n",
                "    '12345678901', /* ZipCode */\n",
                "    'Rua principal', /* Street */\n",
                "    '154', /* Number */\n",
                "    'Casa', /* Complement */\n",
                "    'Centro', /* Distric */\n",
                "    'Guaratinguetá', /* City */\n",
                "    'SP', /* State */\n",
                "    'Brasil', /* Country */\n",
                "    '55', /* Country Code */\n",
                "    'Adição do endereço', /* Address Notes */\n",
                "    GETDATE(), /* BirthDate */\n",
                "    'Araguaína/TO', /* Citizenship */\n",
                "    1, /* Gender (0 female, 1 male) */\n",
                "    'Abiratan', /* First Name */\n",
                "    'Lopes', /* Last Name */\n",
                "    null, /* Obs */\n",
                "    null, /* Full number */\n",
                "    1, /* Is Verified */\n",
                "    null, /* Verification Code */\n",
                "    null, /* Verification Code Expire Date */\n",
                "    null, /* Photo */\n",
                "    GETDATE(), /* Father Name */\n",
                "    'Maria José Lopes', /* Mother Name */\n",
                "    GETDATE(), /* Created At */\n",
                "    GETDATE(), /* Updated At */\n",
                "    'Criação da conta' /* Tracker Notes */\n",
                ")"
            ]
        },
        {
            "cell_type": "code",
            "execution_count": 8,
            "metadata": {
                "azdata_cell_guid": "176a9603-b788-49a8-8033-cefe47496da3",
                "language": "sql"
            },
            "outputs": [
                {
                    "data": {
                        "text/html": [
                            "(1 row affected)"
                        ]
                    },
                    "metadata": {},
                    "output_type": "display_data"
                },
                {
                    "data": {
                        "text/html": [
                            "Total execution time: 00:00:00.047"
                        ]
                    },
                    "metadata": {},
                    "output_type": "display_data"
                }
            ],
            "source": [
                "INSERT INTO [backoffice].[User] VALUES (\n",
                "    NEWID(),\n",
                "    'brewerton.santos@gmail.com',\n",
                "    1,\n",
                "    'sdadaj',\n",
                "    GETDATE(),\n",
                "    '10000.7anq1GENH/IW2MmYpD+fqA==.N87oLLtpACxsSaUQYYk0NCzhZNiI67TuKm6yYzJ0vzs=',\n",
                "    0,\n",
                "    GETDATE(),\n",
                "    GETDATE(),\n",
                "    'Criação da conta',\n",
                "    '527299db-27df-4e30-b35e-d2ae2e23f358',\n",
                "    1\n",
                ")"
            ]
        },
        {
            "cell_type": "code",
            "execution_count": null,
            "metadata": {},
            "outputs": [],
            "source": [
                "INSERT INTO [backoffice].[User] VALUES (\n",
                "    NEWID(),\n",
                "    'abi.lopes.sousa@gmail.com',\n",
                "    1,\n",
                "    'sdadaj',\n",
                "    GETDATE(),\n",
                "    '10000.7anq1GENH/IW2MmYpD+fqA==.N87oLLtpACxsSaUQYYk0NCzhZNiI67TuKm6yYzJ0vzs=',\n",
                "    0,\n",
                "    GETDATE(),\n",
                "    GETDATE(),\n",
                "    'Criação da conta',\n",
                "    '8720a333-8c38-4a18-8ae8-d7184f8d189b',\n",
                "    1\n",
                ")"
            ]
        }
    ],
    "metadata": {
        "kernelspec": {
            "display_name": "SQL",
            "language": "sql",
            "name": "SQL"
        },
        "language_info": {
            "name": "sql",
            "version": ""
        }
    },
    "nbformat": 4,
    "nbformat_minor": 2
}
