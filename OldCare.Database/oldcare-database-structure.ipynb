{
    "metadata": {
        "kernelspec": {
            "name": "SQL",
            "display_name": "SQL",
            "language": "sql"
        },
        "language_info": {
            "name": "sql",
            "version": ""
        },
        "extensions": {
            "azuredatastudio": {
                "version": 1,
                "views": []
            }
        }
    },
    "nbformat_minor": 2,
    "nbformat": 4,
    "cells": [
        {
            "cell_type": "code",
            "source": [
                "/* DROP DATABASE */\r\n",
                "\r\n",
                "\r\n",
                "USE [master];\r\n",
                "\r\n",
                "DECLARE @kill varchar(8000) = '';  \r\n",
                "SELECT @kill = @kill + 'kill ' + CONVERT(varchar(5), session_id) + ';'  \r\n",
                "FROM sys.dm_exec_sessions\r\n",
                "WHERE database_id  = db_id('oldcare-H')\r\n",
                "\r\n",
                "EXEC(@kill);\r\n",
                "\r\n",
                "DROP DATABASE [oldcare-H]"
            ],
            "metadata": {
                "azdata_cell_guid": "ca9c4ba8-5ab0-4b7a-a94b-0ab7840154c8",
                "tags": []
            },
            "outputs": [
                {
                    "output_type": "display_data",
                    "data": {
                        "text/html": "Commands completed successfully."
                    },
                    "metadata": {}
                },
                {
                    "output_type": "display_data",
                    "data": {
                        "text/html": "Total execution time: 00:00:00.296"
                    },
                    "metadata": {}
                }
            ],
            "execution_count": 2
        },
        {
            "cell_type": "code",
            "source": [
                "/* CREATE oldcare-dev DATABASE */\r\n",
                "\r\n",
                "CREATE DATABASE [oldcare-dev]"
            ],
            "metadata": {
                "azdata_cell_guid": "abef7ec8-c3e3-452a-ab4d-0d1e7ba386a6",
                "tags": []
            },
            "outputs": [
                {
                    "output_type": "display_data",
                    "data": {
                        "text/html": "Commands completed successfully."
                    },
                    "metadata": {}
                },
                {
                    "output_type": "display_data",
                    "data": {
                        "text/html": "Total execution time: 00:00:01.429"
                    },
                    "metadata": {}
                }
            ],
            "execution_count": 15
        },
        {
            "cell_type": "code",
            "source": [
                "/* CREATE BEDROOM TABLE */\r\n",
                "\r\n",
                "USE [oldcare-dev]\r\n",
                "\r\n",
                "BEGIN TRANSACTION\r\n",
                "\r\n",
                "    CREATE TABLE [Bedroom] (\r\n",
                "        [Id] UNIQUEIDENTIFIER PRIMARY KEY,\r\n",
                "        [Capacity] INT NOT NULL,\r\n",
                "        [Gender] BIT NOT NULL,\r\n",
                "        [Number] INT NOT NULL\r\n",
                "    )\r\n",
                "\r\n",
                "ROLLBACK\r\n",
                "\r\n",
                "SELECT * FROM [Bedroom]"
            ],
            "metadata": {
                "azdata_cell_guid": "e2c77014-634c-4461-aa19-eed720f1f056",
                "tags": []
            },
            "outputs": [
                {
                    "output_type": "display_data",
                    "data": {
                        "text/html": "(0 rows affected)"
                    },
                    "metadata": {}
                },
                {
                    "output_type": "display_data",
                    "data": {
                        "text/html": "Total execution time: 00:00:00.182"
                    },
                    "metadata": {}
                },
                {
                    "output_type": "execute_result",
                    "execution_count": 16,
                    "data": {
                        "application/vnd.dataresource+json": {
                            "schema": {
                                "fields": [
                                    {
                                        "name": "Id"
                                    },
                                    {
                                        "name": "Capacity"
                                    },
                                    {
                                        "name": "Gender"
                                    },
                                    {
                                        "name": "Number"
                                    }
                                ]
                            },
                            "data": []
                        },
                        "text/html": "<table><tr><th>Id</th><th>Capacity</th><th>Gender</th><th>Number</th></tr></table>"
                    },
                    "metadata": {}
                }
            ],
            "execution_count": 16
        },
        {
            "cell_type": "code",
            "source": [
                "/* CREATE MEDICATION TABLE */\r\n",
                "\r\n",
                "USE [oldcare-dev]\r\n",
                "\r\n",
                "BEGIN TRANSACTION\r\n",
                "\r\n",
                "    CREATE TABLE [Medication] (\r\n",
                "        [Id] UNIQUEIDENTIFIER PRIMARY KEY,\r\n",
                "        [MedicationDate] DATETIME NOT NULL,\r\n",
                "        [COREN] VARCHAR(10) NOT NULL\r\n",
                "    )\r\n",
                "\r\n",
                "ROLLBACK\r\n",
                "\r\n",
                "SELECT * FROM [Medication]"
            ],
            "metadata": {
                "azdata_cell_guid": "92e57bbc-986b-404d-9b6c-fd672c00d016",
                "tags": []
            },
            "outputs": [
                {
                    "output_type": "display_data",
                    "data": {
                        "text/html": "(0 rows affected)"
                    },
                    "metadata": {}
                },
                {
                    "output_type": "display_data",
                    "data": {
                        "text/html": "Total execution time: 00:00:00.179"
                    },
                    "metadata": {}
                },
                {
                    "output_type": "execute_result",
                    "execution_count": 18,
                    "data": {
                        "application/vnd.dataresource+json": {
                            "schema": {
                                "fields": [
                                    {
                                        "name": "Id"
                                    },
                                    {
                                        "name": "MedicationDate"
                                    },
                                    {
                                        "name": "COREN"
                                    }
                                ]
                            },
                            "data": []
                        },
                        "text/html": "<table><tr><th>Id</th><th>MedicationDate</th><th>COREN</th></tr></table>"
                    },
                    "metadata": {}
                }
            ],
            "execution_count": 18
        },
        {
            "cell_type": "code",
            "source": [
                "/* CREATE OCCURRENCE TABLE */\r\n",
                "\r\n",
                "USE [oldcare-dev]\r\n",
                "\r\n",
                "BEGIN TRANSACTION\r\n",
                "\r\n",
                "    CREATE TABLE [Occurrence] (\r\n",
                "        [Id] UNIQUEIDENTIFIER PRIMARY KEY,\r\n",
                "        [OccurrenceDate] DATETIME NOT NULL,\r\n",
                "        [Note] VARCHAR(255) NULL,\r\n",
                "        [OccurrenceType] VARCHAR NOT NULL,\r\n",
                "        [ResidentId] UNIQUEIDENTIFIER\r\n",
                "    )\r\n",
                "\r\n",
                "ROLLBACK\r\n",
                "\r\n",
                "SELECT * FROM [Occurrence]"
            ],
            "metadata": {
                "azdata_cell_guid": "6140e58b-691d-4f34-9a3f-78398c73ed4b",
                "tags": []
            },
            "outputs": [
                {
                    "output_type": "display_data",
                    "data": {
                        "text/html": "(0 rows affected)"
                    },
                    "metadata": {}
                },
                {
                    "output_type": "display_data",
                    "data": {
                        "text/html": "Total execution time: 00:00:00.177"
                    },
                    "metadata": {}
                },
                {
                    "output_type": "execute_result",
                    "execution_count": 19,
                    "data": {
                        "application/vnd.dataresource+json": {
                            "schema": {
                                "fields": [
                                    {
                                        "name": "Id"
                                    },
                                    {
                                        "name": "OccurrenceDate"
                                    },
                                    {
                                        "name": "Note"
                                    },
                                    {
                                        "name": "OccurrenceType"
                                    },
                                    {
                                        "name": "ResidentId"
                                    }
                                ]
                            },
                            "data": []
                        },
                        "text/html": "<table><tr><th>Id</th><th>OccurrenceDate</th><th>Note</th><th>OccurrenceType</th><th>ResidentId</th></tr></table>"
                    },
                    "metadata": {}
                }
            ],
            "execution_count": 19
        },
        {
            "cell_type": "code",
            "source": [
                "/* CREATE PERSON TABLE */\r\n",
                "\r\n",
                "USE [oldcare-dev]\r\n",
                "\r\n",
                "BEGIN TRANSACTION\r\n",
                "\r\n",
                "    CREATE TABLE [Person] (\r\n",
                "        [Id] UNIQUEIDENTIFIER PRIMARY KEY,\r\n",
                "        [Address] VARCHAR(255) NOT NULL,\r\n",
                "        [BirthDate] DATETIME NULL,\r\n",
                "        [Citizenship] VARCHAR(180) NULL,\r\n",
                "        [CEP] INT NOT NULL,\r\n",
                "        [City] VARCHAR(180) NOT NULL,\r\n",
                "        [CPF] BIGINT NULL,\r\n",
                "        [District] VARCHAR(180) NOT NULL,\r\n",
                "        [Gender] BIT,\r\n",
                "        [Name] VARCHAR(255) NOT NULL,\r\n",
                "        [Note] VARCHAR(255) NULL,\r\n",
                "        [Photo] VARCHAR(180) NULL,\r\n",
                "        [RG] BIGINT NULL,\r\n",
                "        [UF] NVARCHAR(2)\r\n",
                "    )\r\n",
                "\r\n",
                "ROLLBACK\r\n",
                "\r\n",
                "SELECT * FROM [Person]"
            ],
            "metadata": {
                "azdata_cell_guid": "f0edcf0e-6f44-433e-abac-32c8fcc2b503",
                "tags": []
            },
            "outputs": [
                {
                    "output_type": "display_data",
                    "data": {
                        "text/html": "(0 rows affected)"
                    },
                    "metadata": {}
                },
                {
                    "output_type": "display_data",
                    "data": {
                        "text/html": "Total execution time: 00:00:00.180"
                    },
                    "metadata": {}
                },
                {
                    "output_type": "execute_result",
                    "execution_count": 20,
                    "data": {
                        "application/vnd.dataresource+json": {
                            "schema": {
                                "fields": [
                                    {
                                        "name": "Id"
                                    },
                                    {
                                        "name": "Address"
                                    },
                                    {
                                        "name": "BirthDate"
                                    },
                                    {
                                        "name": "Citizenship"
                                    },
                                    {
                                        "name": "CEP"
                                    },
                                    {
                                        "name": "City"
                                    },
                                    {
                                        "name": "CPF"
                                    },
                                    {
                                        "name": "District"
                                    },
                                    {
                                        "name": "Gender"
                                    },
                                    {
                                        "name": "Name"
                                    },
                                    {
                                        "name": "Note"
                                    },
                                    {
                                        "name": "RG"
                                    },
                                    {
                                        "name": "UF"
                                    }
                                ]
                            },
                            "data": []
                        },
                        "text/html": "<table><tr><th>Id</th><th>Address</th><th>BirthDate</th><th>Citizenship</th><th>CEP</th><th>City</th><th>CPF</th><th>District</th><th>Gender</th><th>Name</th><th>Note</th><th>RG</th><th>UF</th></tr></table>"
                    },
                    "metadata": {}
                }
            ],
            "execution_count": 20
        },
        {
            "cell_type": "code",
            "source": [
                "/* CREATE TABLE PRODUCT */\r\n",
                "\r\n",
                "USE [oldcare-dev]\r\n",
                "\r\n",
                "BEGIN TRANSACTION \r\n",
                "\r\n",
                "    CREATE TABLE [Product](\r\n",
                "        [Id] UNIQUEIDENTIFIER PRIMARY KEY,\r\n",
                "        [Name] VARCHAR(150) NOT NULL,\r\n",
                "        [Category] INT NOT NULL\r\n",
                "    )\r\n",
                "\r\n",
                "ROLLBACK\r\n",
                "\r\n",
                "SELECT * FROM [Product]"
            ],
            "metadata": {
                "azdata_cell_guid": "ee9d864c-d93f-42a8-8d14-53fbc3831886"
            },
            "outputs": [
                {
                    "output_type": "display_data",
                    "data": {
                        "text/html": "(0 rows affected)"
                    },
                    "metadata": {}
                },
                {
                    "output_type": "display_data",
                    "data": {
                        "text/html": "Total execution time: 00:00:00.207"
                    },
                    "metadata": {}
                },
                {
                    "output_type": "execute_result",
                    "execution_count": 21,
                    "data": {
                        "application/vnd.dataresource+json": {
                            "schema": {
                                "fields": [
                                    {
                                        "name": "Id"
                                    },
                                    {
                                        "name": "Name"
                                    },
                                    {
                                        "name": "Category"
                                    }
                                ]
                            },
                            "data": []
                        },
                        "text/html": "<table><tr><th>Id</th><th>Name</th><th>Category</th></tr></table>"
                    },
                    "metadata": {}
                }
            ],
            "execution_count": 21
        },
        {
            "cell_type": "code",
            "source": [
                "/* CREATE RESIDENT TABLE */\r\n",
                "\r\n",
                "USE [oldcare-dev]\r\n",
                "\r\n",
                "BEGIN TRANSACTION\r\n",
                "\r\n",
                "    CREATE TABLE [Resident] (\r\n",
                "        [Id] UNIQUEIDENTIFIER PRIMARY KEY,\r\n",
                "        [PersonId] UNIQUEIDENTIFIER NOT NULL,\r\n",
                "        [AdmissionDate] DATETIME NOT NULL,\r\n",
                "        [DepartureDate] DATETIME NULL,\r\n",
                "        [Father] VARCHAR(180) NULL,\r\n",
                "        [MaritalStatus] INT NOT NULL,\r\n",
                "        [Mobility] VARCHAR(120) NOT NULL,\r\n",
                "        [Mother] VARCHAR(180) NULL,\r\n",
                "        [Note] VARCHAR(255) NOT NULL,\r\n",
                "        [Profession] VARCHAR(100),\r\n",
                "        [EducationLevel] VARCHAR(120) NOT NULL,\r\n",
                "        [SUS] BIGINT NULL,\r\n",
                "        [VoterRegCardNumber] BIGINT NULL\r\n",
                "    )\r\n",
                "\r\n",
                "ROLLBACK\r\n",
                "\r\n",
                "SELECT * FROM [Resident]"
            ],
            "metadata": {
                "azdata_cell_guid": "9acc20c4-ad2a-4ead-ba81-ac09229f470c",
                "tags": []
            },
            "outputs": [
                {
                    "output_type": "display_data",
                    "data": {
                        "text/html": "(0 rows affected)"
                    },
                    "metadata": {}
                },
                {
                    "output_type": "display_data",
                    "data": {
                        "text/html": "Total execution time: 00:00:00.986"
                    },
                    "metadata": {}
                },
                {
                    "output_type": "execute_result",
                    "execution_count": 36,
                    "data": {
                        "application/vnd.dataresource+json": {
                            "schema": {
                                "fields": [
                                    {
                                        "name": "Id"
                                    },
                                    {
                                        "name": "PersonId"
                                    },
                                    {
                                        "name": "AdmissionDate"
                                    },
                                    {
                                        "name": "DepartureDate"
                                    },
                                    {
                                        "name": "Father"
                                    },
                                    {
                                        "name": "MaritalStatus"
                                    },
                                    {
                                        "name": "Mobility"
                                    },
                                    {
                                        "name": "Mother"
                                    },
                                    {
                                        "name": "Note"
                                    },
                                    {
                                        "name": "Profession"
                                    },
                                    {
                                        "name": "EducationLevel"
                                    },
                                    {
                                        "name": "SUS"
                                    },
                                    {
                                        "name": "VoterRegCardNumber"
                                    }
                                ]
                            },
                            "data": []
                        },
                        "text/html": "<table><tr><th>Id</th><th>PersonId</th><th>AdmissionDate</th><th>DepartureDate</th><th>Father</th><th>MaritalStatus</th><th>Mobility</th><th>Mother</th><th>Note</th><th>Profession</th><th>EducationLevel</th><th>SUS</th><th>VoterRegCardNumber</th></tr></table>"
                    },
                    "metadata": {}
                }
            ],
            "execution_count": 36
        },
        {
            "cell_type": "code",
            "source": [
                "/* CREATE RESPONSABILE TABLE */\r\n",
                "\r\n",
                "USE [oldcare-dev]\r\n",
                "\r\n",
                "BEGIN TRANSACTION\r\n",
                "-- DROP TABLE [Responsible]\r\n",
                "    CREATE TABLE [Responsible] (\r\n",
                "        [Id] UNIQUEIDENTIFIER PRIMARY KEY,\r\n",
                "        [PersonId] UNIQUEIDENTIFIER NOT NULL,\r\n",
                "        [Forwarder] BIT NOT NULL DEFAULT 1,\r\n",
                "        [Kinship] VARCHAR(120) NOT NULL,\r\n",
                "        [PhoneNumber] BIGINT NULL,\r\n",
                "        [Primary] BIT NOT NULL DEFAULT 1\r\n",
                "    )\r\n",
                "\r\n",
                "ROLLBACK\r\n",
                "\r\n",
                "SELECT * FROM [Responsible]"
            ],
            "metadata": {
                "azdata_cell_guid": "be1e62fa-c936-44d7-b001-a56e5bd27d9e",
                "tags": []
            },
            "outputs": [
                {
                    "output_type": "display_data",
                    "data": {
                        "text/html": "(0 rows affected)"
                    },
                    "metadata": {}
                },
                {
                    "output_type": "display_data",
                    "data": {
                        "text/html": "Total execution time: 00:00:00.202"
                    },
                    "metadata": {}
                },
                {
                    "output_type": "execute_result",
                    "execution_count": 37,
                    "data": {
                        "application/vnd.dataresource+json": {
                            "schema": {
                                "fields": [
                                    {
                                        "name": "Id"
                                    },
                                    {
                                        "name": "PersonId"
                                    },
                                    {
                                        "name": "Forwarder"
                                    },
                                    {
                                        "name": "Kinship"
                                    },
                                    {
                                        "name": "PhoneNumber"
                                    },
                                    {
                                        "name": "Primary"
                                    }
                                ]
                            },
                            "data": []
                        },
                        "text/html": "<table><tr><th>Id</th><th>PersonId</th><th>Forwarder</th><th>Kinship</th><th>PhoneNumber</th><th>Primary</th></tr></table>"
                    },
                    "metadata": {}
                }
            ],
            "execution_count": 37
        },
        {
            "cell_type": "code",
            "source": [
                "/* CREATE PRESCRIPTION TABLE */\r\n",
                "\r\n",
                "USE [oldcare-dev]\r\n",
                "\r\n",
                "\r\n",
                "BEGIN TRANSACTION\r\n",
                "\r\n",
                "    -- DROP TABLE [Prescription]\r\n",
                "\r\n",
                "    CREATE TABLE [Prescription] (\r\n",
                "        [Id] UNIQUEIDENTIFIER PRIMARY KEY,\r\n",
                "        [DoctorName] VARCHAR(200) NOT NULL,\r\n",
                "        [PrescriptionDate] DATETIME NOT NULL,\r\n",
                "        [ProductId] UNIQUEIDENTIFIER\r\n",
                "    )\r\n",
                "\r\n",
                "ROLLBACK\r\n",
                "\r\n",
                "SELECT * FROM [Prescription]"
            ],
            "metadata": {
                "azdata_cell_guid": "461dfc1e-e244-4a8b-9a36-aab24cd6444d",
                "tags": []
            },
            "outputs": [
                {
                    "output_type": "display_data",
                    "data": {
                        "text/html": "(0 rows affected)"
                    },
                    "metadata": {}
                },
                {
                    "output_type": "display_data",
                    "data": {
                        "text/html": "Total execution time: 00:00:00.162"
                    },
                    "metadata": {}
                },
                {
                    "output_type": "execute_result",
                    "execution_count": 25,
                    "data": {
                        "application/vnd.dataresource+json": {
                            "schema": {
                                "fields": [
                                    {
                                        "name": "Id"
                                    },
                                    {
                                        "name": "DoctorName"
                                    },
                                    {
                                        "name": "PrescriptionDate"
                                    },
                                    {
                                        "name": "ProductId"
                                    }
                                ]
                            },
                            "data": []
                        },
                        "text/html": "<table><tr><th>Id</th><th>DoctorName</th><th>PrescriptionDate</th><th>ProductId</th></tr></table>"
                    },
                    "metadata": {}
                }
            ],
            "execution_count": 25
        },
        {
            "cell_type": "code",
            "source": [
                "/* CREATE ASPNET TABLES */\r\n",
                "\r\n",
                "USE [oldcare-dev]\r\n",
                "\r\n",
                "BEGIN TRANSACTION\r\n",
                "\r\n",
                "    CREATE TABLE [AspNetRoles]\r\n",
                "    (\r\n",
                "        [Id] uniqueidentifier NOT NULL,\r\n",
                "        [Name] nvarchar(256) NULL,\r\n",
                "        [NormalizedName] nvarchar(256) NULL,\r\n",
                "        [ConcurrencyStamp] nvarchar(max) NULL,\r\n",
                "        CONSTRAINT [PK_AspNetRoles] PRIMARY KEY ([Id])\r\n",
                "    );\r\n",
                "    GO\r\n",
                "\r\n",
                "\r\n",
                "    CREATE TABLE [AspNetUsers]\r\n",
                "    (\r\n",
                "        [Id] uniqueidentifier NOT NULL,\r\n",
                "        [UserName] nvarchar(180) NULL,\r\n",
                "        [NormalizedUserName] nvarchar(180) NULL,\r\n",
                "        [Email] nvarchar(180) NULL,\r\n",
                "        [NormalizedEmail] nvarchar(180) NULL,\r\n",
                "        [EmailConfirmed] bit NOT NULL,\r\n",
                "        [PasswordHash] nvarchar(max) NULL,\r\n",
                "        [SecurityStamp] nvarchar(max) NULL,\r\n",
                "        [ConcurrencyStamp] nvarchar(max) NULL,\r\n",
                "        [PhoneNumber] nvarchar(20) NULL,\r\n",
                "        [PhoneNumberConfirmed] bit NOT NULL,\r\n",
                "        [TwoFactorEnabled] bit NOT NULL,\r\n",
                "        [LockoutEnd] datetimeoffset NULL,\r\n",
                "        [LockoutEnabled] bit NOT NULL,\r\n",
                "        [AccessFailedCount] int NOT NULL,    \r\n",
                "        CONSTRAINT [PK_AspNetUsers] PRIMARY KEY ([Id])\r\n",
                "    );\r\n",
                "    GO\r\n",
                "\r\n",
                "    CREATE TABLE [AspNetRoleClaims]\r\n",
                "    (\r\n",
                "        [Id] int NOT NULL IDENTITY,\r\n",
                "        [RoleId] uniqueidentifier NOT NULL,\r\n",
                "        [ClaimType] nvarchar(255) NULL,\r\n",
                "        [ClaimValue] nvarchar(255) NULL,\r\n",
                "        CONSTRAINT [PK_AspNetRoleClaims] PRIMARY KEY ([Id]),\r\n",
                "        CONSTRAINT [FK_AspNetRoleClaims_AspNetRoles_RoleId] FOREIGN KEY ([RoleId]) REFERENCES [AspNetRoles] ([Id]) ON DELETE CASCADE\r\n",
                "    );\r\n",
                "    GO\r\n",
                "\r\n",
                "    CREATE TABLE [AspNetUserClaims]\r\n",
                "    (\r\n",
                "        [Id] int NOT NULL IDENTITY,\r\n",
                "        [UserId] uniqueidentifier NOT NULL,\r\n",
                "        [ClaimType] nvarchar(255) NULL,\r\n",
                "        [ClaimValue] nvarchar(255) NULL,\r\n",
                "        CONSTRAINT [PK_AspNetUserClaims] PRIMARY KEY ([Id]),\r\n",
                "        CONSTRAINT [FK_AspNetUserClaims_AspNetUsers_UserId] FOREIGN KEY ([UserId]) REFERENCES [AspNetUsers] ([Id]) ON DELETE CASCADE\r\n",
                "    );\r\n",
                "    GO\r\n",
                "\r\n",
                "    CREATE TABLE [AspNetUserLogins]\r\n",
                "    (\r\n",
                "        [LoginProvider] nvarchar(128) NOT NULL,\r\n",
                "        [ProviderKey] nvarchar(128) NOT NULL,\r\n",
                "        [ProviderDisplayName] nvarchar(255) NULL,\r\n",
                "        [UserId] uniqueidentifier NOT NULL,\r\n",
                "        CONSTRAINT [PK_AspNetUserLogins] PRIMARY KEY ([LoginProvider], [ProviderKey]),\r\n",
                "        CONSTRAINT [FK_AspNetUserLogins_AspNetUsers_UserId] FOREIGN KEY ([UserId]) REFERENCES [AspNetUsers] ([Id]) ON DELETE CASCADE\r\n",
                "    );\r\n",
                "    GO\r\n",
                "\r\n",
                "    CREATE TABLE [AspNetUserRoles]\r\n",
                "    (\r\n",
                "        [UserId] uniqueidentifier NOT NULL,\r\n",
                "        [RoleId] uniqueidentifier NOT NULL,\r\n",
                "        CONSTRAINT [PK_AspNetUserRoles] PRIMARY KEY ([UserId], [RoleId]),\r\n",
                "        CONSTRAINT [FK_AspNetUserRoles_AspNetRoles_RoleId] FOREIGN KEY ([RoleId]) REFERENCES [AspNetRoles] ([Id]) ON DELETE CASCADE,\r\n",
                "        CONSTRAINT [FK_AspNetUserRoles_AspNetUsers_UserId] FOREIGN KEY ([UserId]) REFERENCES [AspNetUsers] ([Id]) ON DELETE CASCADE\r\n",
                "    );\r\n",
                "    GO\r\n",
                "\r\n",
                "    CREATE TABLE [AspNetUserTokens]\r\n",
                "    (\r\n",
                "        [UserId] uniqueidentifier NOT NULL,\r\n",
                "        [LoginProvider] nvarchar(120) NOT NULL,\r\n",
                "        [Name] nvarchar(180) NOT NULL,\r\n",
                "        [Value] nvarchar(max) NULL,\r\n",
                "        CONSTRAINT [PK_AspNetUserTokens] PRIMARY KEY ([UserId], [LoginProvider], [Name]),\r\n",
                "        CONSTRAINT [FK_AspNetUserTokens_AspNetUsers_UserId] FOREIGN KEY ([UserId]) REFERENCES [AspNetUsers] ([Id]) ON DELETE CASCADE\r\n",
                "    );\r\n",
                "    GO\r\n",
                "\r\n",
                "    CREATE INDEX [IX_AspNetRoleClaims_RoleId] ON [AspNetRoleClaims] ([RoleId]);\r\n",
                "    GO\r\n",
                "\r\n",
                "    CREATE UNIQUE INDEX [RoleNameIndex] ON [AspNetRoles] ([NormalizedName]) WHERE [NormalizedName] IS NOT NULL;\r\n",
                "    GO\r\n",
                "\r\n",
                "    CREATE INDEX [IX_AspNetUserClaims_UserId] ON [AspNetUserClaims] ([UserId]);\r\n",
                "    GO\r\n",
                "\r\n",
                "    CREATE INDEX [IX_AspNetUserLogins_UserId] ON [AspNetUserLogins] ([UserId]);\r\n",
                "    GO\r\n",
                "\r\n",
                "    CREATE INDEX [IX_AspNetUserRoles_RoleId] ON [AspNetUserRoles] ([RoleId]);\r\n",
                "    GO\r\n",
                "\r\n",
                "    CREATE INDEX [EmailIndex] ON [AspNetUsers] ([NormalizedEmail]);\r\n",
                "    GO\r\n",
                "\r\n",
                "    CREATE UNIQUE INDEX [UserNameIndex] ON [AspNetUsers] ([NormalizedUserName]) WHERE [NormalizedUserName] IS NOT NULL;\r\n",
                "    GO\r\n",
                "\r\n",
                "ROLLBACK"
            ],
            "metadata": {
                "azdata_cell_guid": "6e2702f7-3f00-49d5-9646-4a7b9aa5f6f8",
                "tags": []
            },
            "outputs": [
                {
                    "output_type": "display_data",
                    "data": {
                        "text/html": "Commands completed successfully."
                    },
                    "metadata": {}
                },
                {
                    "output_type": "error",
                    "ename": "",
                    "evalue": "Msg 2714, Level 16, State 6, Line 18\r\nThere is already an object named 'AspNetUsers' in the database.",
                    "traceback": []
                },
                {
                    "output_type": "error",
                    "ename": "",
                    "evalue": "Msg 1767, Level 16, State 0, Line 39\r\nForeign key 'FK_AspNetRoleClaims_AspNetRoles_RoleId' references invalid table 'AspNetRoles'.",
                    "traceback": []
                },
                {
                    "output_type": "error",
                    "ename": "",
                    "evalue": "Msg 1750, Level 16, State 1, Line 39\r\nCould not create constraint or index. See previous errors.",
                    "traceback": []
                },
                {
                    "output_type": "error",
                    "ename": "",
                    "evalue": "Msg 2714, Level 16, State 6, Line 50\r\nThere is already an object named 'AspNetUserClaims' in the database.",
                    "traceback": []
                },
                {
                    "output_type": "error",
                    "ename": "",
                    "evalue": "Msg 2714, Level 16, State 6, Line 61\r\nThere is already an object named 'AspNetUserLogins' in the database.",
                    "traceback": []
                },
                {
                    "output_type": "error",
                    "ename": "",
                    "evalue": "Msg 1767, Level 16, State 0, Line 72\r\nForeign key 'FK_AspNetUserRoles_AspNetRoles_RoleId' references invalid table 'AspNetRoles'.",
                    "traceback": []
                },
                {
                    "output_type": "error",
                    "ename": "",
                    "evalue": "Msg 1750, Level 16, State 1, Line 72\r\nCould not create constraint or index. See previous errors.",
                    "traceback": []
                },
                {
                    "output_type": "error",
                    "ename": "",
                    "evalue": "Msg 2714, Level 16, State 6, Line 82\r\nThere is already an object named 'AspNetUserTokens' in the database.",
                    "traceback": []
                },
                {
                    "output_type": "error",
                    "ename": "",
                    "evalue": "Msg 1088, Level 16, State 12, Line 93\r\nCannot find the object \"AspNetRoleClaims\" because it does not exist or you do not have permissions.",
                    "traceback": []
                },
                {
                    "output_type": "error",
                    "ename": "",
                    "evalue": "Msg 208, Level 16, State 101, Line 96\r\nInvalid object name 'AspNetRoles'.",
                    "traceback": []
                },
                {
                    "output_type": "error",
                    "ename": "",
                    "evalue": "Msg 1913, Level 16, State 1, Line 99\r\nThe operation failed because an index or statistics with name 'IX_AspNetUserClaims_UserId' already exists on table 'AspNetUserClaims'.",
                    "traceback": []
                },
                {
                    "output_type": "error",
                    "ename": "",
                    "evalue": "Msg 1913, Level 16, State 1, Line 102\r\nThe operation failed because an index or statistics with name 'IX_AspNetUserLogins_UserId' already exists on table 'AspNetUserLogins'.",
                    "traceback": []
                },
                {
                    "output_type": "error",
                    "ename": "",
                    "evalue": "Msg 1088, Level 16, State 12, Line 105\r\nCannot find the object \"AspNetUserRoles\" because it does not exist or you do not have permissions.",
                    "traceback": []
                },
                {
                    "output_type": "error",
                    "ename": "",
                    "evalue": "Msg 1913, Level 16, State 1, Line 108\r\nThe operation failed because an index or statistics with name 'EmailIndex' already exists on table 'AspNetUsers'.",
                    "traceback": []
                },
                {
                    "output_type": "error",
                    "ename": "",
                    "evalue": "Msg 1913, Level 16, State 1, Line 111\r\nThe operation failed because an index or statistics with name 'UserNameIndex' already exists on table 'AspNetUsers'.",
                    "traceback": []
                },
                {
                    "output_type": "error",
                    "ename": "",
                    "evalue": "Msg 3902, Level 16, State 1, Line 114\r\nThe COMMIT TRANSACTION request has no corresponding BEGIN TRANSACTION.",
                    "traceback": []
                },
                {
                    "output_type": "display_data",
                    "data": {
                        "text/html": "Total execution time: 00:00:02.160"
                    },
                    "metadata": {}
                }
            ],
            "execution_count": 12
        },
        {
            "cell_type": "code",
            "source": [
                "/* FILL BEDROOM TABLE */\r\n",
                "\r\n",
                "USE [oldcare-dev]\r\n",
                "\r\n",
                "GO\r\n",
                "\r\n",
                "BEGIN TRANSACTION\r\n",
                "\r\n",
                "    INSERT INTO [Bedroom] VALUES\r\n",
                "        (NEWID(), 6, 1, 101),\r\n",
                "        (NEWID(), 4, 1, 102),\r\n",
                "        (NEWID(), 8, 1, 103),\r\n",
                "        (NEWID(), 4, 0, 201),\r\n",
                "        (NEWID(), 10, 0, 202),\r\n",
                "        (NEWID(), 6, 0, 203);\r\n",
                "\r\n",
                "    GO\r\n",
                "\r\n",
                "ROLLBACK\r\n",
                "\r\n",
                ""
            ],
            "metadata": {
                "azdata_cell_guid": "c5e550c3-563c-4d4b-8a16-b053a2dfc108"
            },
            "outputs": [
                {
                    "output_type": "display_data",
                    "data": {
                        "text/html": "Commands completed successfully."
                    },
                    "metadata": {}
                },
                {
                    "output_type": "display_data",
                    "data": {
                        "text/html": "(6 rows affected)"
                    },
                    "metadata": {}
                },
                {
                    "output_type": "display_data",
                    "data": {
                        "text/html": "Commands completed successfully."
                    },
                    "metadata": {}
                },
                {
                    "output_type": "display_data",
                    "data": {
                        "text/html": "Total execution time: 00:00:00.483"
                    },
                    "metadata": {}
                }
            ],
            "execution_count": 26
        },
        {
            "cell_type": "code",
            "source": [
                "/* FILL MEDICATION TABLE */\r\n",
                "USE [oldcare-dev]\r\n",
                "GO\r\n",
                "\r\n",
                "BEGIN TRANSACTION\r\n",
                "\r\n",
                "    INSERT INTO [Medication] VALUES\r\n",
                "        (NEWID(), CURRENT_TIMESTAMP, '12345SP-TE'),\r\n",
                "        (NEWID(), CURRENT_TIMESTAMP, '54321SP-TE'),\r\n",
                "        (NEWID(), CURRENT_TIMESTAMP, '52413SP-TE'),\r\n",
                "        (NEWID(), CURRENT_TIMESTAMP, '21354SP-TE'),\r\n",
                "        (NEWID(), CURRENT_TIMESTAMP, '25413SP-TE'),\r\n",
                "        (NEWID(), CURRENT_TIMESTAMP, '35214SP-TE');\r\n",
                "\r\n",
                "    GO\r\n",
                "\r\n",
                "ROLLBACK"
            ],
            "metadata": {
                "azdata_cell_guid": "6305a96a-3bdc-4aad-887f-50c163b656f7"
            },
            "outputs": [
                {
                    "output_type": "display_data",
                    "data": {
                        "text/html": "Commands completed successfully."
                    },
                    "metadata": {}
                },
                {
                    "output_type": "display_data",
                    "data": {
                        "text/html": "(6 rows affected)"
                    },
                    "metadata": {}
                },
                {
                    "output_type": "display_data",
                    "data": {
                        "text/html": "Commands completed successfully."
                    },
                    "metadata": {}
                },
                {
                    "output_type": "display_data",
                    "data": {
                        "text/html": "Total execution time: 00:00:00.456"
                    },
                    "metadata": {}
                }
            ],
            "execution_count": 29
        },
        {
            "cell_type": "code",
            "source": [
                "/* FILL OCCURRENCE TABLE */\r\n",
                "USE [oldcare-dev]\r\n",
                "GO\r\n",
                "\r\n",
                "BEGIN TRANSACTION\r\n",
                "\r\n",
                "    INSERT INTO [Occurrence] VALUES\r\n",
                "        (NEWID(), CURRENT_TIMESTAMP, 'Internação em hospital - Santa Casa', 1, NEWID()),\r\n",
                "        (NEWID(), CURRENT_TIMESTAMP, 'Participaçao em evento - Curso de artesanato', 2, NEWID()),\r\n",
                "        (NEWID(), CURRENT_TIMESTAMP, 'Retirado pelo responsável - final de semana com familiares', 3, NEWID()),\r\n",
                "        (NEWID(), CURRENT_TIMESTAMP, 'Passeio no parque ecológico', 1,  NEWID()),\r\n",
                "        (NEWID(), CURRENT_TIMESTAMP, 'Internação hospitalar - Frei Galvão', 2, NEWID()),\r\n",
                "        (NEWID(), CURRENT_TIMESTAMP, 'Participação em evento - curso de música', 3, NEWID());\r\n",
                "    GO\r\n",
                "\r\n",
                "ROLLBACK\r\n",
                "\r\n",
                "SELECT * FROM [Occurrence];"
            ],
            "metadata": {
                "azdata_cell_guid": "225c5a1b-a819-4764-b49b-450093fc03a2"
            },
            "outputs": [
                {
                    "output_type": "display_data",
                    "data": {
                        "text/html": "Commands completed successfully."
                    },
                    "metadata": {}
                },
                {
                    "output_type": "display_data",
                    "data": {
                        "text/html": "(6 rows affected)"
                    },
                    "metadata": {}
                },
                {
                    "output_type": "display_data",
                    "data": {
                        "text/html": "(6 rows affected)"
                    },
                    "metadata": {}
                },
                {
                    "output_type": "display_data",
                    "data": {
                        "text/html": "Total execution time: 00:00:00.487"
                    },
                    "metadata": {}
                },
                {
                    "output_type": "execute_result",
                    "execution_count": 30,
                    "data": {
                        "application/vnd.dataresource+json": {
                            "schema": {
                                "fields": [
                                    {
                                        "name": "Id"
                                    },
                                    {
                                        "name": "OccurrenceDate"
                                    },
                                    {
                                        "name": "Note"
                                    },
                                    {
                                        "name": "OccurrenceType"
                                    },
                                    {
                                        "name": "ResidentId"
                                    }
                                ]
                            },
                            "data": [
                                {
                                    "0": "666a27d9-1add-4149-8dd9-5d3172309430",
                                    "1": "2021-10-15 23:28:05.700",
                                    "2": "Passeio no parque ecológico",
                                    "3": "1",
                                    "4": "df381aec-dbfc-48a0-92ea-ebb30d635302"
                                },
                                {
                                    "0": "145f1cfa-1d9a-4ee5-a372-5f5717c7537b",
                                    "1": "2021-10-15 23:28:05.700",
                                    "2": "Internação hospitalar - Frei Galvão",
                                    "3": "2",
                                    "4": "81b3ff9c-bde4-4534-ae28-24231d506c54"
                                },
                                {
                                    "0": "aa331e22-5c01-4483-8579-66104ea646c1",
                                    "1": "2021-10-15 23:28:05.700",
                                    "2": "Internação em hospital - Santa Casa",
                                    "3": "1",
                                    "4": "a47ed595-35cc-42dd-9877-dd7b53b0254e"
                                },
                                {
                                    "0": "5183bb10-76dc-406d-92a7-9a45db690a5a",
                                    "1": "2021-10-15 23:28:05.700",
                                    "2": "Participaçao em evento - Curso de artesanato",
                                    "3": "2",
                                    "4": "867e5615-25c4-4717-8ace-e5e36dc7b349"
                                },
                                {
                                    "0": "71214ed3-c7da-4431-9c93-acbfca521cf0",
                                    "1": "2021-10-15 23:28:05.700",
                                    "2": "Participação em evento - curso de música",
                                    "3": "3",
                                    "4": "176e41c1-9d30-46a9-a0fe-1febb021cd30"
                                },
                                {
                                    "0": "91116f8f-de74-4064-b806-e58429dcedb0",
                                    "1": "2021-10-15 23:28:05.700",
                                    "2": "Retirado pelo responsável - final de semana com familiares",
                                    "3": "3",
                                    "4": "90380dc2-2de9-4ca6-afa0-273f012306d2"
                                }
                            ]
                        },
                        "text/html": "<table><tr><th>Id</th><th>OccurrenceDate</th><th>Note</th><th>OccurrenceType</th><th>ResidentId</th></tr><tr><td>666a27d9-1add-4149-8dd9-5d3172309430</td><td>2021-10-15 23:28:05.700</td><td>Passeio no parque ecológico</td><td>1</td><td>df381aec-dbfc-48a0-92ea-ebb30d635302</td></tr><tr><td>145f1cfa-1d9a-4ee5-a372-5f5717c7537b</td><td>2021-10-15 23:28:05.700</td><td>Internação hospitalar - Frei Galvão</td><td>2</td><td>81b3ff9c-bde4-4534-ae28-24231d506c54</td></tr><tr><td>aa331e22-5c01-4483-8579-66104ea646c1</td><td>2021-10-15 23:28:05.700</td><td>Internação em hospital - Santa Casa</td><td>1</td><td>a47ed595-35cc-42dd-9877-dd7b53b0254e</td></tr><tr><td>5183bb10-76dc-406d-92a7-9a45db690a5a</td><td>2021-10-15 23:28:05.700</td><td>Participaçao em evento - Curso de artesanato</td><td>2</td><td>867e5615-25c4-4717-8ace-e5e36dc7b349</td></tr><tr><td>71214ed3-c7da-4431-9c93-acbfca521cf0</td><td>2021-10-15 23:28:05.700</td><td>Participação em evento - curso de música</td><td>3</td><td>176e41c1-9d30-46a9-a0fe-1febb021cd30</td></tr><tr><td>91116f8f-de74-4064-b806-e58429dcedb0</td><td>2021-10-15 23:28:05.700</td><td>Retirado pelo responsável - final de semana com familiares</td><td>3</td><td>90380dc2-2de9-4ca6-afa0-273f012306d2</td></tr></table>"
                    },
                    "metadata": {}
                }
            ],
            "execution_count": 30
        },
        {
            "cell_type": "code",
            "source": [
                "/* FILL PERSON TABLE */\r\n",
                "USE [oldcare-dev]\r\n",
                "GO\r\n",
                "\r\n",
                "BEGIN TRANSACTION\r\n",
                "\r\n",
                "    INSERT INTO [Person] VALUES\r\n",
                "        (NEWID(), 'Rua Diogo Álvares 6', GETDATE(), 'Guaratinguetá-SP', 12516630, 'Guaratinguetá', 296476221, 'Nova Guará', 1, 'Jose Carlos Rodrigues', 'Nada a declarar', 526141931, 'SP'),\r\n",
                "        (NEWID(), 'Avenida João Pessoa 456', GETDATE(), 'Lorena-SP', 12506040, 'Guaratinguetá', 852369741, 'Centro', 0, 'Maria José Soares', 'Nada a declarar', 526141931, 'SP'),\r\n",
                "        (NEWID(), 'Avenida Presidente Vargas 46', GETDATE(), 'Cruzeiro-SP', 12515010, 'Guaratinguetá', 321654987, 'Pedregulho', 0, 'Aline Maria da Silva', 'Nada a declarar', 526141931, 'SP'),\r\n",
                "        (NEWID(), 'Rua José Bonifácio 63', GETDATE(), 'Roseira-SP', 1250000, 'Guaratinguetá', 654987123, 'Jardim do Vale', 1, 'Antonio José de Oliveira', 'Nada a declarar', 526141931, 'SP'),\r\n",
                "        (NEWID(), 'Praça Caetés 16', GETDATE(), 'Taubaté-SP', 11524896, 'Guaratinguetá', 852369741, 'Parque S. Francisco', 0, 'Antonia Maria de Jesus', 'Nada a declarar', 526141931, 'SP'),\r\n",
                "        (NEWID(), 'Avenida Governador Valadares 98', GETDATE(), 'Rio de Janeiro-RJ', 41852789, 'Guaratinguetá', 357869423, 'Vila Municipal', 1, 'Daniel Carlos da Silva', 'Falta documento de identidade', 526141931, 'SP');\r\n",
                "    GO\r\n",
                "\r\n",
                "ROLLBACK\r\n",
                "\r\n",
                "SELECT * FROM [Person]"
            ],
            "metadata": {
                "azdata_cell_guid": "401b7943-5203-49f2-ba44-716cd76218ac"
            },
            "outputs": [
                {
                    "output_type": "display_data",
                    "data": {
                        "text/html": "Commands completed successfully."
                    },
                    "metadata": {}
                },
                {
                    "output_type": "display_data",
                    "data": {
                        "text/html": "(6 rows affected)"
                    },
                    "metadata": {}
                },
                {
                    "output_type": "display_data",
                    "data": {
                        "text/html": "(6 rows affected)"
                    },
                    "metadata": {}
                },
                {
                    "output_type": "display_data",
                    "data": {
                        "text/html": "Total execution time: 00:00:00.528"
                    },
                    "metadata": {}
                },
                {
                    "output_type": "execute_result",
                    "execution_count": 31,
                    "data": {
                        "application/vnd.dataresource+json": {
                            "schema": {
                                "fields": [
                                    {
                                        "name": "Id"
                                    },
                                    {
                                        "name": "Address"
                                    },
                                    {
                                        "name": "BirthDate"
                                    },
                                    {
                                        "name": "Citizenship"
                                    },
                                    {
                                        "name": "CEP"
                                    },
                                    {
                                        "name": "City"
                                    },
                                    {
                                        "name": "CPF"
                                    },
                                    {
                                        "name": "District"
                                    },
                                    {
                                        "name": "Gender"
                                    },
                                    {
                                        "name": "Name"
                                    },
                                    {
                                        "name": "Note"
                                    },
                                    {
                                        "name": "RG"
                                    },
                                    {
                                        "name": "UF"
                                    }
                                ]
                            },
                            "data": [
                                {
                                    "0": "8d1aec68-5ee0-49dc-857a-0ab90de97820",
                                    "1": "Rua José Bonifácio 63",
                                    "2": "2021-10-15 23:28:45.983",
                                    "3": "Roseira-SP",
                                    "4": "1250000",
                                    "5": "Guaratinguetá",
                                    "6": "654987123",
                                    "7": "Jardim do Vale",
                                    "8": "1",
                                    "9": "Antonio José de Oliveira",
                                    "10": "Nada a declarar",
                                    "11": "526141931",
                                    "12": "SP"
                                },
                                {
                                    "0": "5a2a4271-f017-4737-a7f8-1c041961053e",
                                    "1": "Avenida Governador Valadares 98",
                                    "2": "2021-10-15 23:28:45.983",
                                    "3": "Rio de Janeiro-RJ",
                                    "4": "41852789",
                                    "5": "Guaratinguetá",
                                    "6": "357869423",
                                    "7": "Vila Municipal",
                                    "8": "1",
                                    "9": "Daniel Carlos da Silva",
                                    "10": "Falta documento de identidade",
                                    "11": "526141931",
                                    "12": "SP"
                                },
                                {
                                    "0": "f28fbb30-3468-4030-9b79-77cab3266c16",
                                    "1": "Avenida João Pessoa 456",
                                    "2": "2021-10-15 23:28:45.983",
                                    "3": "Lorena-SP",
                                    "4": "12506040",
                                    "5": "Guaratinguetá",
                                    "6": "852369741",
                                    "7": "Centro",
                                    "8": "0",
                                    "9": "Maria José Soares",
                                    "10": "Nada a declarar",
                                    "11": "526141931",
                                    "12": "SP"
                                },
                                {
                                    "0": "fa58038c-3f5e-47b7-be17-ba3f96764cba",
                                    "1": "Rua Diogo Álvares 6",
                                    "2": "2021-10-15 23:28:45.983",
                                    "3": "Guaratinguetá-SP",
                                    "4": "12516630",
                                    "5": "Guaratinguetá",
                                    "6": "296476221",
                                    "7": "Nova Guará",
                                    "8": "1",
                                    "9": "Jose Carlos Rodrigues",
                                    "10": "Nada a declarar",
                                    "11": "526141931",
                                    "12": "SP"
                                },
                                {
                                    "0": "1b80f672-5bc1-405a-b437-d0cc327f584d",
                                    "1": "Praça Caetés 16",
                                    "2": "2021-10-15 23:28:45.983",
                                    "3": "Taubaté-SP",
                                    "4": "11524896",
                                    "5": "Guaratinguetá",
                                    "6": "852369741",
                                    "7": "Parque S. Francisco",
                                    "8": "0",
                                    "9": "Antonia Maria de Jesus",
                                    "10": "Nada a declarar",
                                    "11": "526141931",
                                    "12": "SP"
                                },
                                {
                                    "0": "bd031d56-0163-4eb0-b203-f0dd193bff38",
                                    "1": "Avenida Presidente Vargas 46",
                                    "2": "2021-10-15 23:28:45.983",
                                    "3": "Cruzeiro-SP",
                                    "4": "12515010",
                                    "5": "Guaratinguetá",
                                    "6": "321654987",
                                    "7": "Pedregulho",
                                    "8": "0",
                                    "9": "Aline Maria da Silva",
                                    "10": "Nada a declarar",
                                    "11": "526141931",
                                    "12": "SP"
                                }
                            ]
                        },
                        "text/html": "<table><tr><th>Id</th><th>Address</th><th>BirthDate</th><th>Citizenship</th><th>CEP</th><th>City</th><th>CPF</th><th>District</th><th>Gender</th><th>Name</th><th>Note</th><th>RG</th><th>UF</th></tr><tr><td>8d1aec68-5ee0-49dc-857a-0ab90de97820</td><td>Rua José Bonifácio 63</td><td>2021-10-15 23:28:45.983</td><td>Roseira-SP</td><td>1250000</td><td>Guaratinguetá</td><td>654987123</td><td>Jardim do Vale</td><td>1</td><td>Antonio José de Oliveira</td><td>Nada a declarar</td><td>526141931</td><td>SP</td></tr><tr><td>5a2a4271-f017-4737-a7f8-1c041961053e</td><td>Avenida Governador Valadares 98</td><td>2021-10-15 23:28:45.983</td><td>Rio de Janeiro-RJ</td><td>41852789</td><td>Guaratinguetá</td><td>357869423</td><td>Vila Municipal</td><td>1</td><td>Daniel Carlos da Silva</td><td>Falta documento de identidade</td><td>526141931</td><td>SP</td></tr><tr><td>f28fbb30-3468-4030-9b79-77cab3266c16</td><td>Avenida João Pessoa 456</td><td>2021-10-15 23:28:45.983</td><td>Lorena-SP</td><td>12506040</td><td>Guaratinguetá</td><td>852369741</td><td>Centro</td><td>0</td><td>Maria José Soares</td><td>Nada a declarar</td><td>526141931</td><td>SP</td></tr><tr><td>fa58038c-3f5e-47b7-be17-ba3f96764cba</td><td>Rua Diogo Álvares 6</td><td>2021-10-15 23:28:45.983</td><td>Guaratinguetá-SP</td><td>12516630</td><td>Guaratinguetá</td><td>296476221</td><td>Nova Guará</td><td>1</td><td>Jose Carlos Rodrigues</td><td>Nada a declarar</td><td>526141931</td><td>SP</td></tr><tr><td>1b80f672-5bc1-405a-b437-d0cc327f584d</td><td>Praça Caetés 16</td><td>2021-10-15 23:28:45.983</td><td>Taubaté-SP</td><td>11524896</td><td>Guaratinguetá</td><td>852369741</td><td>Parque S. Francisco</td><td>0</td><td>Antonia Maria de Jesus</td><td>Nada a declarar</td><td>526141931</td><td>SP</td></tr><tr><td>bd031d56-0163-4eb0-b203-f0dd193bff38</td><td>Avenida Presidente Vargas 46</td><td>2021-10-15 23:28:45.983</td><td>Cruzeiro-SP</td><td>12515010</td><td>Guaratinguetá</td><td>321654987</td><td>Pedregulho</td><td>0</td><td>Aline Maria da Silva</td><td>Nada a declarar</td><td>526141931</td><td>SP</td></tr></table>"
                    },
                    "metadata": {}
                }
            ],
            "execution_count": 31
        },
        {
            "cell_type": "code",
            "source": [
                "/* FILL PRESCRIPTION TABLE */\r\n",
                "USE [oldcare-dev]\r\n",
                "GO\r\n",
                "\r\n",
                "BEGIN TRANSACTION\r\n",
                "\r\n",
                "    INSERT INTO [Prescription] VALUES\r\n",
                "        (NEWID(), 'Antonio Carlos da Silva', GETDATE(), NEWID()),\r\n",
                "        (NEWID(), 'João Carlos Vasconcelos', GETDATE(), NEWID()),\r\n",
                "        (NEWID(), 'Mônica Maria Benedito', GETDATE(), NEWID()),\r\n",
                "        (NEWID(), 'Machado de Assis', GETDATE(), NEWID()),\r\n",
                "        (NEWID(), 'Olavo Bilac', GETDATE(), NEWID()),\r\n",
                "        (NEWID(), 'Benedito Sabino Soares', GETDATE(), NEWID());      \r\n",
                "    GO\r\n",
                "\r\n",
                "ROLLBACK\r\n",
                "\r\n",
                "SELECT * FROM [Prescription]"
            ],
            "metadata": {
                "azdata_cell_guid": "d1f9632c-f66c-4030-8228-e5865ea07742"
            },
            "outputs": [
                {
                    "output_type": "display_data",
                    "data": {
                        "text/html": "Commands completed successfully."
                    },
                    "metadata": {}
                },
                {
                    "output_type": "display_data",
                    "data": {
                        "text/html": "(6 rows affected)"
                    },
                    "metadata": {}
                },
                {
                    "output_type": "display_data",
                    "data": {
                        "text/html": "(6 rows affected)"
                    },
                    "metadata": {}
                },
                {
                    "output_type": "display_data",
                    "data": {
                        "text/html": "Total execution time: 00:00:00.460"
                    },
                    "metadata": {}
                },
                {
                    "output_type": "execute_result",
                    "execution_count": 32,
                    "data": {
                        "application/vnd.dataresource+json": {
                            "schema": {
                                "fields": [
                                    {
                                        "name": "Id"
                                    },
                                    {
                                        "name": "DoctorName"
                                    },
                                    {
                                        "name": "PrescriptionDate"
                                    },
                                    {
                                        "name": "ProductId"
                                    }
                                ]
                            },
                            "data": [
                                {
                                    "0": "4e4d1e91-dba0-4812-8390-13f50eb22bcd",
                                    "1": "João Carlos Vasconcelos",
                                    "2": "2021-10-15 23:29:38.930",
                                    "3": "7e1fcee8-e9ba-4535-81f3-81bf4f708e44"
                                },
                                {
                                    "0": "4a079f7b-c57e-4651-9a00-40a9b2b1155d",
                                    "1": "Benedito Sabino Soares",
                                    "2": "2021-10-15 23:29:38.930",
                                    "3": "379be0a0-223c-4aaf-abf8-9904be80dba3"
                                },
                                {
                                    "0": "4a572944-57da-4be5-a047-7cdf02187c84",
                                    "1": "Olavo Bilac",
                                    "2": "2021-10-15 23:29:38.930",
                                    "3": "a1ea5853-a81b-48d6-9b08-f1f8b4ca8297"
                                },
                                {
                                    "0": "a0e472b0-f955-4e37-8ed9-c27d51e2637d",
                                    "1": "Mônica Maria Benedito",
                                    "2": "2021-10-15 23:29:38.930",
                                    "3": "d4cf1731-691c-479f-ad2c-259ab757b9fc"
                                },
                                {
                                    "0": "f69e5bba-1af7-4e51-b721-d2d21e6aa56d",
                                    "1": "Machado de Assis",
                                    "2": "2021-10-15 23:29:38.930",
                                    "3": "d47f8cd9-837e-4446-ade3-e92ad2788904"
                                },
                                {
                                    "0": "7fe610f6-308a-440b-9597-ebf627b1e269",
                                    "1": "Antonio Carlos da Silva",
                                    "2": "2021-10-15 23:29:38.930",
                                    "3": "7173b1be-c4a0-401a-b266-89b0fb83190d"
                                }
                            ]
                        },
                        "text/html": "<table><tr><th>Id</th><th>DoctorName</th><th>PrescriptionDate</th><th>ProductId</th></tr><tr><td>4e4d1e91-dba0-4812-8390-13f50eb22bcd</td><td>João Carlos Vasconcelos</td><td>2021-10-15 23:29:38.930</td><td>7e1fcee8-e9ba-4535-81f3-81bf4f708e44</td></tr><tr><td>4a079f7b-c57e-4651-9a00-40a9b2b1155d</td><td>Benedito Sabino Soares</td><td>2021-10-15 23:29:38.930</td><td>379be0a0-223c-4aaf-abf8-9904be80dba3</td></tr><tr><td>4a572944-57da-4be5-a047-7cdf02187c84</td><td>Olavo Bilac</td><td>2021-10-15 23:29:38.930</td><td>a1ea5853-a81b-48d6-9b08-f1f8b4ca8297</td></tr><tr><td>a0e472b0-f955-4e37-8ed9-c27d51e2637d</td><td>Mônica Maria Benedito</td><td>2021-10-15 23:29:38.930</td><td>d4cf1731-691c-479f-ad2c-259ab757b9fc</td></tr><tr><td>f69e5bba-1af7-4e51-b721-d2d21e6aa56d</td><td>Machado de Assis</td><td>2021-10-15 23:29:38.930</td><td>d47f8cd9-837e-4446-ade3-e92ad2788904</td></tr><tr><td>7fe610f6-308a-440b-9597-ebf627b1e269</td><td>Antonio Carlos da Silva</td><td>2021-10-15 23:29:38.930</td><td>7173b1be-c4a0-401a-b266-89b0fb83190d</td></tr></table>"
                    },
                    "metadata": {}
                }
            ],
            "execution_count": 32
        },
        {
            "cell_type": "code",
            "source": [
                "/* FILL RESIDENT TABLE */\r\n",
                "USE [oldcare-dev]\r\n",
                "GO\r\n",
                "\r\n",
                "BEGIN TRANSACTION\r\n",
                "\r\n",
                "    INSERT INTO [Resident] VALUES\r\n",
                "        (NEWID(), '7e908d03-cf90-41dd-8ed6-025d162f0726', GETDATE(), '', 'João José Santos', 'SUS', 1, 'Raquel de Queiroz', 2, 'Professor', 3, 1000000001, 2000000001),\r\n",
                "        (NEWID(), '500ff891-1213-4d3d-907e-1d8651ef2bb9', GETDATE(), '', 'Ricardo do Espírito Santo', 'SUS', 3, 'Cecília Meireles', 2, 'Pedreiro', 1, 1000000002, 2000000002),\r\n",
                "        (NEWID(), '500ff891-1213-4d3d-907e-1d8651ef2bb9', GETDATE(), '', 'Daniel da Silva Reis', 'SUL AMERICA', 1, 'Margaret Tacher', 1, 'Do Lar', 1, 1000000003, 2000000003),\r\n",
                "        -- (NEWID(), GETDATE(), '', 'Afonso de Oliveira Silva', 'SUS', 2, 'Eleonor Roosevelt', 2, 'Funcionário Público', 2, 1000000004, 2000000004),\r\n",
                "        -- (NEWID(), GETDATE(), '', 'Pedro Lopes Santiago', 'UNIMED', 3, 'Priscila Carvalho Santos', 3, 'Operador de Máquina', 3, 1000000005, 2000000005),\r\n",
                "        -- (NEWID(), GETDATE(), '', 'John Newton', 'SUS', 1, 'Rosa Maria Ferreira', 2, 'Enfermeira', 3, 1000000006, 2000000006);\r\n",
                "    GO\r\n",
                "\r\n",
                "ROLLBACK\r\n",
                "\r\n",
                "SELECT * FROM [Resident]"
            ],
            "metadata": {
                "azdata_cell_guid": "fc67e317-a181-4dd6-b8f8-26bf42aaa8e8"
            },
            "outputs": [
                {
                    "output_type": "display_data",
                    "data": {
                        "text/html": "Commands completed successfully."
                    },
                    "metadata": {}
                },
                {
                    "output_type": "display_data",
                    "data": {
                        "text/html": "(6 rows affected)"
                    },
                    "metadata": {}
                },
                {
                    "output_type": "display_data",
                    "data": {
                        "text/html": "(6 rows affected)"
                    },
                    "metadata": {}
                },
                {
                    "output_type": "display_data",
                    "data": {
                        "text/html": "Total execution time: 00:00:00.505"
                    },
                    "metadata": {}
                },
                {
                    "output_type": "execute_result",
                    "execution_count": 33,
                    "data": {
                        "application/vnd.dataresource+json": {
                            "schema": {
                                "fields": [
                                    {
                                        "name": "Id"
                                    },
                                    {
                                        "name": "AdmissionDate"
                                    },
                                    {
                                        "name": "DepartureDate"
                                    },
                                    {
                                        "name": "Father"
                                    },
                                    {
                                        "name": "MaritalStatus"
                                    },
                                    {
                                        "name": "Mobility"
                                    },
                                    {
                                        "name": "Mother"
                                    },
                                    {
                                        "name": "Note"
                                    },
                                    {
                                        "name": "Profession"
                                    },
                                    {
                                        "name": "EducationLevel"
                                    },
                                    {
                                        "name": "SUS"
                                    },
                                    {
                                        "name": "VoterRegCardNumber"
                                    }
                                ]
                            },
                            "data": [
                                {
                                    "0": "c759a1c6-6827-4fcb-b7b0-06f5eea9aa93",
                                    "1": "2021-10-15 23:30:20.430",
                                    "2": "1900-01-01 00:00:00.000",
                                    "3": "João José Santos",
                                    "4": "SUS",
                                    "5": "1",
                                    "6": "Raquel de Queiroz",
                                    "7": "2",
                                    "8": "Professor",
                                    "9": "3",
                                    "10": "1000000001",
                                    "11": "2000000001"
                                },
                                {
                                    "0": "0bb5fc58-cea6-48f2-8080-4c52db1ffcf9",
                                    "1": "2021-10-15 23:30:20.430",
                                    "2": "1900-01-01 00:00:00.000",
                                    "3": "Daniel da Silva Reis",
                                    "4": "SUL AMERICA",
                                    "5": "1",
                                    "6": "Margaret Tacher",
                                    "7": "1",
                                    "8": "Do Lar",
                                    "9": "1",
                                    "10": "1000000003",
                                    "11": "2000000003"
                                },
                                {
                                    "0": "4b470737-2ef5-497d-8383-4eddde9b52ec",
                                    "1": "2021-10-15 23:30:20.430",
                                    "2": "1900-01-01 00:00:00.000",
                                    "3": "Ricardo do Espírito Santo",
                                    "4": "SUS",
                                    "5": "3",
                                    "6": "Cecília Meireles",
                                    "7": "2",
                                    "8": "Pedreiro",
                                    "9": "1",
                                    "10": "1000000002",
                                    "11": "2000000002"
                                },
                                {
                                    "0": "f48dc5cd-9fbd-482e-95c4-b1d70f22f503",
                                    "1": "2021-10-15 23:30:20.430",
                                    "2": "1900-01-01 00:00:00.000",
                                    "3": "John Newton",
                                    "4": "SUS",
                                    "5": "1",
                                    "6": "Rosa Maria Ferreira",
                                    "7": "2",
                                    "8": "Enfermeira",
                                    "9": "3",
                                    "10": "1000000006",
                                    "11": "2000000006"
                                },
                                {
                                    "0": "6c74ac02-c06f-41c3-997d-b7fd2319a030",
                                    "1": "2021-10-15 23:30:20.430",
                                    "2": "1900-01-01 00:00:00.000",
                                    "3": "Pedro Lopes Santiago",
                                    "4": "UNIMED",
                                    "5": "3",
                                    "6": "Priscila Carvalho Santos",
                                    "7": "3",
                                    "8": "Operador de Máquina",
                                    "9": "3",
                                    "10": "1000000005",
                                    "11": "2000000005"
                                },
                                {
                                    "0": "18d3eae1-9941-480e-af1c-c74955a3992f",
                                    "1": "2021-10-15 23:30:20.430",
                                    "2": "1900-01-01 00:00:00.000",
                                    "3": "Afonso de Oliveira Silva",
                                    "4": "SUS",
                                    "5": "2",
                                    "6": "Eleonor Roosevelt",
                                    "7": "2",
                                    "8": "Funcionário Público",
                                    "9": "2",
                                    "10": "1000000004",
                                    "11": "2000000004"
                                }
                            ]
                        },
                        "text/html": "<table><tr><th>Id</th><th>AdmissionDate</th><th>DepartureDate</th><th>Father</th><th>MaritalStatus</th><th>Mobility</th><th>Mother</th><th>Note</th><th>Profession</th><th>EducationLevel</th><th>SUS</th><th>VoterRegCardNumber</th></tr><tr><td>c759a1c6-6827-4fcb-b7b0-06f5eea9aa93</td><td>2021-10-15 23:30:20.430</td><td>1900-01-01 00:00:00.000</td><td>João José Santos</td><td>SUS</td><td>1</td><td>Raquel de Queiroz</td><td>2</td><td>Professor</td><td>3</td><td>1000000001</td><td>2000000001</td></tr><tr><td>0bb5fc58-cea6-48f2-8080-4c52db1ffcf9</td><td>2021-10-15 23:30:20.430</td><td>1900-01-01 00:00:00.000</td><td>Daniel da Silva Reis</td><td>SUL AMERICA</td><td>1</td><td>Margaret Tacher</td><td>1</td><td>Do Lar</td><td>1</td><td>1000000003</td><td>2000000003</td></tr><tr><td>4b470737-2ef5-497d-8383-4eddde9b52ec</td><td>2021-10-15 23:30:20.430</td><td>1900-01-01 00:00:00.000</td><td>Ricardo do Espírito Santo</td><td>SUS</td><td>3</td><td>Cecília Meireles</td><td>2</td><td>Pedreiro</td><td>1</td><td>1000000002</td><td>2000000002</td></tr><tr><td>f48dc5cd-9fbd-482e-95c4-b1d70f22f503</td><td>2021-10-15 23:30:20.430</td><td>1900-01-01 00:00:00.000</td><td>John Newton</td><td>SUS</td><td>1</td><td>Rosa Maria Ferreira</td><td>2</td><td>Enfermeira</td><td>3</td><td>1000000006</td><td>2000000006</td></tr><tr><td>6c74ac02-c06f-41c3-997d-b7fd2319a030</td><td>2021-10-15 23:30:20.430</td><td>1900-01-01 00:00:00.000</td><td>Pedro Lopes Santiago</td><td>UNIMED</td><td>3</td><td>Priscila Carvalho Santos</td><td>3</td><td>Operador de Máquina</td><td>3</td><td>1000000005</td><td>2000000005</td></tr><tr><td>18d3eae1-9941-480e-af1c-c74955a3992f</td><td>2021-10-15 23:30:20.430</td><td>1900-01-01 00:00:00.000</td><td>Afonso de Oliveira Silva</td><td>SUS</td><td>2</td><td>Eleonor Roosevelt</td><td>2</td><td>Funcionário Público</td><td>2</td><td>1000000004</td><td>2000000004</td></tr></table>"
                    },
                    "metadata": {}
                }
            ],
            "execution_count": 33
        },
        {
            "cell_type": "code",
            "source": [
                "/* FILL RESPONSIBLE TABLE */\r\n",
                "USE [oldcare-dev]\r\n",
                "GO\r\n",
                "\r\n",
                "BEGIN TRANSACTION\r\n",
                "\r\n",
                "    INSERT INTO [Responsible] VALUES\r\n",
                "        (NEWID(), 'eca12551-672b-43f8-ada7-8b3c09269a12', 1, 1, 1231234901, 1),\r\n",
                "        (NEWID(), 'f7eb7f5a-52d5-410a-adaa-a69951e713dc', 0,  2, 619978564, 0),\r\n",
                "        (NEWID(), 'a0aa0d38-2f12-42ac-a3b2-b6902cb224c6', 1, 3, 119856231, 1),\r\n",
                "        -- (NEWID(), 0, 2, 129526385, 0),\r\n",
                "        -- (NEWID(), 1, 3, 149852635, 1),\r\n",
                "        -- (NEWID(), 1, 1, 159785632, 1);\r\n",
                "\r\n",
                "    GO\r\n",
                "\r\n",
                "ROLLBACK\r\n",
                "\r\n",
                "SELECT * FROM [Responsible]"
            ],
            "metadata": {
                "azdata_cell_guid": "2f051553-1cd3-4d0b-931e-c754cbcd56c5"
            },
            "outputs": [
                {
                    "output_type": "display_data",
                    "data": {
                        "text/html": "Commands completed successfully."
                    },
                    "metadata": {}
                },
                {
                    "output_type": "display_data",
                    "data": {
                        "text/html": "(6 rows affected)"
                    },
                    "metadata": {}
                },
                {
                    "output_type": "display_data",
                    "data": {
                        "text/html": "(6 rows affected)"
                    },
                    "metadata": {}
                },
                {
                    "output_type": "display_data",
                    "data": {
                        "text/html": "Total execution time: 00:00:00.506"
                    },
                    "metadata": {}
                },
                {
                    "output_type": "execute_result",
                    "execution_count": 35,
                    "data": {
                        "application/vnd.dataresource+json": {
                            "schema": {
                                "fields": [
                                    {
                                        "name": "Id"
                                    },
                                    {
                                        "name": "Forwarder"
                                    },
                                    {
                                        "name": "Kinship"
                                    },
                                    {
                                        "name": "PhoneNumber"
                                    },
                                    {
                                        "name": "Primary"
                                    }
                                ]
                            },
                            "data": [
                                {
                                    "0": "769e921d-7c81-4a62-9f7b-0b7943717fd8",
                                    "1": "1",
                                    "2": "3",
                                    "3": "119856231",
                                    "4": "1"
                                },
                                {
                                    "0": "ddae95ab-2d6a-4bba-a341-101ca9ef1a32",
                                    "1": "1",
                                    "2": "1",
                                    "3": "1231234901",
                                    "4": "1"
                                },
                                {
                                    "0": "5a685a3d-9441-4bc2-9f1d-2fce3f568d35",
                                    "1": "1",
                                    "2": "3",
                                    "3": "149852635",
                                    "4": "1"
                                },
                                {
                                    "0": "e5a8f3e5-5c77-4a75-81c5-430877812e7a",
                                    "1": "1",
                                    "2": "1",
                                    "3": "159785632",
                                    "4": "1"
                                },
                                {
                                    "0": "b6463179-6860-4045-8dfa-6e86e160f90c",
                                    "1": "0",
                                    "2": "2",
                                    "3": "129526385",
                                    "4": "0"
                                },
                                {
                                    "0": "70a66112-cb49-4d60-b7fe-7e86d9952f11",
                                    "1": "0",
                                    "2": "2",
                                    "3": "619978564",
                                    "4": "0"
                                }
                            ]
                        },
                        "text/html": "<table><tr><th>Id</th><th>Forwarder</th><th>Kinship</th><th>PhoneNumber</th><th>Primary</th></tr><tr><td>769e921d-7c81-4a62-9f7b-0b7943717fd8</td><td>1</td><td>3</td><td>119856231</td><td>1</td></tr><tr><td>ddae95ab-2d6a-4bba-a341-101ca9ef1a32</td><td>1</td><td>1</td><td>1231234901</td><td>1</td></tr><tr><td>5a685a3d-9441-4bc2-9f1d-2fce3f568d35</td><td>1</td><td>3</td><td>149852635</td><td>1</td></tr><tr><td>e5a8f3e5-5c77-4a75-81c5-430877812e7a</td><td>1</td><td>1</td><td>159785632</td><td>1</td></tr><tr><td>b6463179-6860-4045-8dfa-6e86e160f90c</td><td>0</td><td>2</td><td>129526385</td><td>0</td></tr><tr><td>70a66112-cb49-4d60-b7fe-7e86d9952f11</td><td>0</td><td>2</td><td>619978564</td><td>0</td></tr></table>"
                    },
                    "metadata": {}
                }
            ],
            "execution_count": 35
        }
    ]
}